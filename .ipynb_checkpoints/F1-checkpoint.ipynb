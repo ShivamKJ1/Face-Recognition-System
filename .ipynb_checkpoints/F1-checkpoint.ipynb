{
 "cells": [
  {
   "cell_type": "markdown",
   "id": "e162af8c",
   "metadata": {},
   "source": [
    "## Let's start"
   ]
  },
  {
   "cell_type": "markdown",
   "id": "32d971a6",
   "metadata": {},
   "source": []
  }
 ],
 "metadata": {
  "language_info": {
   "name": "python"
  }
 },
 "nbformat": 4,
 "nbformat_minor": 5
}
